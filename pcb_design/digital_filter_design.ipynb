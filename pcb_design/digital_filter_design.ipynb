{
 "cells": [
  {
   "cell_type": "markdown",
   "id": "direct-skiing",
   "metadata": {},
   "source": [
    "# Digital Filter Design for Pressure Sensors"
   ]
  },
  {
   "cell_type": "markdown",
   "id": "fitting-amateur",
   "metadata": {},
   "source": [
    "There is a low pass filter already on the pcb, but it didn't seem to help very much for some reason. "
   ]
  },
  {
   "cell_type": "code",
   "execution_count": 1,
   "id": "recorded-paraguay",
   "metadata": {},
   "outputs": [],
   "source": [
    "import control as ctrl\n",
    "from control.matlab import tf\n",
    "import numpy as np"
   ]
  },
  {
   "cell_type": "code",
   "execution_count": 4,
   "id": "fatal-bride",
   "metadata": {},
   "outputs": [
    {
     "name": "stdout",
     "output_type": "stream",
     "text": [
      "\n",
      "  628.3\n",
      "---------\n",
      "s + 628.3\n",
      "\n"
     ]
    }
   ],
   "source": [
    "fc = 100\n",
    "\n",
    "num = 2*np.pi*fc\n",
    "\n",
    "denom = [1, 2*np.pi*fc]\n",
    "\n",
    "filter = tf(num, denom)\n",
    "\n",
    "print(filter)"
   ]
  },
  {
   "cell_type": "code",
   "execution_count": 5,
   "id": "collectible-butler",
   "metadata": {},
   "outputs": [
    {
     "data": {
      "text/latex": [
       "$$\\frac{0.4665}{z - 0.5335}\\quad dt = 0.001$$"
      ],
      "text/plain": [
       "TransferFunction(array([0.46651191]), array([ 1.        , -0.53348809]), 0.001)"
      ]
     },
     "execution_count": 5,
     "metadata": {},
     "output_type": "execute_result"
    }
   ],
   "source": [
    "from control.matlab import c2d\n",
    "\n",
    "c2d(filter, .001)"
   ]
  },
  {
   "cell_type": "code",
   "execution_count": null,
   "id": "peaceful-consciousness",
   "metadata": {},
   "outputs": [],
   "source": []
  }
 ],
 "metadata": {
  "kernelspec": {
   "display_name": "Python 3",
   "language": "python",
   "name": "python3"
  },
  "language_info": {
   "codemirror_mode": {
    "name": "ipython",
    "version": 3
   },
   "file_extension": ".py",
   "mimetype": "text/x-python",
   "name": "python",
   "nbconvert_exporter": "python",
   "pygments_lexer": "ipython3",
   "version": "3.8.5"
  }
 },
 "nbformat": 4,
 "nbformat_minor": 5
}
